{
  "cells": [
    {
      "cell_type": "markdown",
      "metadata": {
        "id": "I2aitBj_DdP9"
      },
      "source": [
        "# Installing the required library"
      ]
    },
    {
      "cell_type": "code",
      "execution_count": null,
      "metadata": {
        "id": "jPqO-waaDdQA",
        "outputId": "88d4f994-9e99-47b8-f1e1-21112cdc0075"
      },
      "outputs": [
        {
          "name": "stdout",
          "output_type": "stream",
          "text": [
            "Requirement already satisfied: selenium in d:\\vs_code\\pro_1\\.venv\\lib\\site-packages (4.14.0)\n",
            "Requirement already satisfied: urllib3[socks]<3,>=1.26 in d:\\vs_code\\pro_1\\.venv\\lib\\site-packages (from selenium) (2.0.6)\n",
            "Requirement already satisfied: trio~=0.17 in d:\\vs_code\\pro_1\\.venv\\lib\\site-packages (from selenium) (0.22.2)\n",
            "Requirement already satisfied: trio-websocket~=0.9 in d:\\vs_code\\pro_1\\.venv\\lib\\site-packages (from selenium) (0.11.1)\n",
            "Requirement already satisfied: certifi>=2021.10.8 in d:\\vs_code\\pro_1\\.venv\\lib\\site-packages (from selenium) (2023.7.22)\n",
            "Requirement already satisfied: attrs>=20.1.0 in d:\\vs_code\\pro_1\\.venv\\lib\\site-packages (from trio~=0.17->selenium) (23.1.0)\n",
            "Requirement already satisfied: sortedcontainers in d:\\vs_code\\pro_1\\.venv\\lib\\site-packages (from trio~=0.17->selenium) (2.4.0)\n",
            "Requirement already satisfied: idna in d:\\vs_code\\pro_1\\.venv\\lib\\site-packages (from trio~=0.17->selenium) (3.4)\n",
            "Requirement already satisfied: outcome in d:\\vs_code\\pro_1\\.venv\\lib\\site-packages (from trio~=0.17->selenium) (1.2.0)\n",
            "Requirement already satisfied: sniffio in d:\\vs_code\\pro_1\\.venv\\lib\\site-packages (from trio~=0.17->selenium) (1.3.0)\n",
            "Requirement already satisfied: cffi>=1.14 in d:\\vs_code\\pro_1\\.venv\\lib\\site-packages (from trio~=0.17->selenium) (1.16.0)\n",
            "Requirement already satisfied: exceptiongroup>=1.0.0rc9 in d:\\vs_code\\pro_1\\.venv\\lib\\site-packages (from trio~=0.17->selenium) (1.1.3)\n",
            "Requirement already satisfied: wsproto>=0.14 in d:\\vs_code\\pro_1\\.venv\\lib\\site-packages (from trio-websocket~=0.9->selenium) (1.2.0)\n",
            "Requirement already satisfied: pysocks!=1.5.7,<2.0,>=1.5.6 in d:\\vs_code\\pro_1\\.venv\\lib\\site-packages (from urllib3[socks]<3,>=1.26->selenium) (1.7.1)\n",
            "Requirement already satisfied: pycparser in d:\\vs_code\\pro_1\\.venv\\lib\\site-packages (from cffi>=1.14->trio~=0.17->selenium) (2.21)\n",
            "Requirement already satisfied: h11<1,>=0.9.0 in d:\\vs_code\\pro_1\\.venv\\lib\\site-packages (from wsproto>=0.14->trio-websocket~=0.9->selenium) (0.14.0)\n",
            "Note: you may need to restart the kernel to use updated packages.\n"
          ]
        },
        {
          "name": "stderr",
          "output_type": "stream",
          "text": [
            "\n",
            "[notice] A new release of pip is available: 23.2.1 -> 23.3.1\n",
            "[notice] To update, run: python.exe -m pip install --upgrade pip\n"
          ]
        }
      ],
      "source": [
        "!pip install selenium"
      ]
    },
    {
      "cell_type": "code",
      "execution_count": null,
      "metadata": {
        "id": "Sb92TYQxDdQD"
      },
      "outputs": [],
      "source": [
        "import time\n",
        "\n",
        "from selenium import webdriver\n",
        "from selenium.webdriver.common.by import By\n",
        "\n",
        "driver = webdriver.Chrome()  # Optional argument, if not specified will search path.\n",
        "\n",
        "driver.get('http://www.google.com/');\n",
        "\n",
        "time.sleep(5) # Let the user actually see something!\n",
        "\n",
        "search_box = driver.find_element(By.NAME, 'q')\n",
        "\n",
        "search_box.send_keys('ChromeDriver')\n",
        "\n",
        "search_box.submit()\n",
        "\n",
        "time.sleep(5) # Let the user actually see something!\n",
        "\n",
        "driver.quit()"
      ]
    },
    {
      "cell_type": "markdown",
      "metadata": {
        "id": "KyF9TDYwDdQD"
      },
      "source": [
        "## Getting the BBC news content"
      ]
    },
    {
      "cell_type": "code",
      "execution_count": null,
      "metadata": {
        "id": "Ghec3cbUDdQD"
      },
      "outputs": [],
      "source": [
        "import time\n",
        "\n",
        "from selenium import webdriver\n",
        "from selenium.webdriver.common.by import By\n",
        "\n",
        "\n",
        "driver = webdriver.Chrome()  # Optional argument, if not specified will search path.\n",
        "\n",
        "driver.maximize_window()\n",
        "\n",
        "driver.get('https://www.bbc.com/news/world-us-canada-67593885');\n",
        "\n",
        "time.sleep(5) # Let the user actually see something!\n",
        "\n",
        "heading = driver.find_element(By.TAG_NAME,'h1')\n",
        "paragraph = driver.find_element(By.TAG_NAME,'p')\n",
        "paragraphs = driver.find_elements(By.TAG_NAME,'p')\n",
        "\n",
        "\n",
        "#driver.quit()"
      ]
    },
    {
      "cell_type": "code",
      "execution_count": null,
      "metadata": {
        "id": "f08W1Nq8DdQE",
        "outputId": "492162a8-4e9c-4c48-ed94-c4ea80d44806"
      },
      "outputs": [
        {
          "name": "stdout",
          "output_type": "stream",
          "text": [
            "Watch: George Santos' last day in office... in 85 seconds\n",
            "The US House of Representatives has expelled congressman George Santos, following a damning ethics report and dozens of criminal charges.\n",
            "\"To hell with this place,\" Mr Santos told reporters as he left the Capitol.\n",
            "The New York Republican is only the sixth lawmaker in history to be removed from the lower chamber of Congress, and the first since 2002.\n",
            "His tenure was marked by multiple lies about his past and allegations of fraud - all revealed after his election.\n",
            "Friday's was the third attempt to oust Mr Santos after two previous votes failed.\n",
            "The 35-year-old from Queens made a quick exit from the Capitol before the vote ended as its outcome became clear, rushing past a swarm of reporters and into a waiting SUV.\n",
            "\"As unofficially already no longer a member of Congress, I no longer have to answer a single question from you guys,\" he said.\n",
            "Lawmakers backed the expulsion resolution 311 to 114, with 206 Democrats and 105 Republicans voting in favour.\n",
            "Watch: The moment George Santos' sign is removed from his office\n",
            "Scattered applause was heard across the House chamber after the measure was adopted.\n",
            "Over 11 months in office, Mr Santos faced an endless stream of controversy and countless calls to resign from members of both parties.\n",
            "His troubles began shortly after winning election to the House in November 2022, when the New York Times reported he had lied about a Wall Street career, his college degrees and having Jewish ancestry.\n",
            "Since then, the allegations have only piled up. He has been accused of a range of fabrications, from scamming Amish dog breeders in Pennsylvania to claiming his mother died in the 9/11 terror attacks.\n",
            "In May, he was charged with 23 felonies, including wire fraud, money laundering and theft of public funds. He denies the allegations and is awaiting trial.\n",
            "But the final blow came last month, when the House ethics committee found he had exploited \"every aspect of his House candidacy for his own personal financial profit\".\n",
            "Among its many allegations, the panel accused him of spending campaign money on Botox treatments, credit card debt, OnlyFans - a platform where users pay for content, including pornography - and trips to the Hamptons seaside enclave in New York.\n",
            "Expulsion votes are rare in Congress and require the backing of two-thirds of the House.\n",
            "Two previous efforts to remove Mr Santos failed, after some lawmakers argued it would set a bad precedent to remove someone who had not been convicted of crimes or tried in a court of law.\n",
            "Jim Jordan, a Republican who voted against the expulsion, told the BBC he worried \"who's next\".\n",
            "\"The voters elected him,\" he said. \"You've got to be careful in taking a vote to kick out of Congress someone the voters sent to Congress.\"\n",
            "A group of four New York Republicans, all elected alongside Mr Santos, had been trying to get him ousted.\n",
            "\"The precedent that is set is that we hold members of Congress to a higher standard,\" said one, Anthony D'Esposito.\n",
            "\"It shouldn't have come to this,\" he added. \"He should have held himself accountable. He should have resigned.\"\n",
            "Watch: George Santos' tumultuous term...1 year in 1 minute\n",
            "In the days after the release of the ethics committee's report, Mr Santos had refused to quit, slamming colleagues online and daring them to remove him.\n",
            "\"This place is run on hypocrisy,\" he told reporters earlier this week. \"If they want me to leave Congress, they're going to have to take that tough vote.\"\n",
            "Constituents in his district welcomed the news, with one saying only \"good riddance\" when asked for their reaction.\n",
            "Jody Kassfinkel, who campaigned to have Mr Santos removed, told the BBC his expulsion was \"a win for democracy\".\n",
            "\"We knew this was the only way to go because this man has no shame and he was not going to resign on his own,\" she said.\n",
            "As soon as the vote was gavelled out, Mr Santos officially became a former member of Congress.\n",
            "His official website was taken down, his staff phones now go to a generic voicemail and the nameplate outside his office - where some people stopped by to take selfies on Friday - was removed.\n",
            "A sign attached to the doorway says \"Yes! We're open\" - but there were no signs of life inside except for a staffer who briefly exited to pick up flowers left at the entrance.\n",
            "The New Yorker no longer has the ability to vote on legislation or to rely on his government health benefits, and is not eligible for a congressional legislative pension.\n",
            "He can still dine, however, in the exclusive House restaurant, exercise in the Capitol gym or borrow books from the Library of Congress - all privileges afforded to former members of Congress.\n",
            "New York Governor Kathy Hochul has 10 days to call for an election, which will likely take place next February.\n",
            "With the Republican House majority shaved to just eight seats, Democrats have a good shot of filling the vacancy.\n",
            "It caps a stunning downfall of a man who scored an upset victory in a Democratic-leaning district and became the first openly gay Republican elected to Congress.\n",
            "With a federal fraud trial looming next year, some have speculated he will sign a plea deal with prosecutors to avoid prison time, as he did with a case in his native Brazil earlier this year.\n",
            "If not, he faces a maximum penalty of at least 20 years behind bars.\n",
            "Additional reporting by Pratiksha Ghildial and Nadine Yousif.\n",
            "Treason and bribery - a history of House expulsions\n",
            "'I hate that I helped George Santos'\n",
            "Santos expulsion leaves House Republicans vulnerable\n",
            "Israel hits targets across Gaza as first aid enters since end of ceasefire\n",
            "Bowen: US sets clearer red lines for Israel as ceasefire ends\n",
            "What US agents knew before a Sikh separatist was killed\n",
            "China mourns 'most valued friend' Henry Kissinger\n",
            "'Red gold': Why saffron production is dwindling in India\n",
            "Bowen: US sets clearer red lines for Israel as ceasefire ends\n",
            "Young activists trying to change the minds of climate sceptics\n",
            "Gloria Steinem: There is a desire to control wombs. Video\n",
            "Gloria Steinem: There is a desire to control wombs\n",
            "Paris asks: Are the Olympics worth the trouble?\n",
            "The Indian siblings taking the chess world by storm\n",
            "'I’m not ready to lose hope': The hostages still in Gaza\n",
            "The Crown star on her shock when the Queen died\n",
            "Why US travellers are snubbing budget airlines\n",
            "Berlin's stunning indoor public pools\n",
            "The scandalous queens of 1910s New York\n",
            "© 2023 BBC. The BBC is not responsible for the content of external sites. Read about our approach to external linking.\n"
          ]
        }
      ],
      "source": [
        "for i in paragraphs:\n",
        "    print(i.text)"
      ]
    },
    {
      "cell_type": "code",
      "execution_count": null,
      "metadata": {
        "id": "6HVLoJBtDdQE"
      },
      "outputs": [],
      "source": [
        "driver = webdriver.Chrome()  # Optional argument, if not specified will search path.\n",
        "\n",
        "driver.maximize_window()\n",
        "\n",
        "driver.get('https://www.bbc.com/news/world-us-canada-67593885');\n",
        "\n",
        "time.sleep(5) # Let the user actually see something!\n",
        "\n",
        "#article_box = driver.find_element(By.XPATH,'//article')\n",
        "\n",
        "paragraghs = driver.find_elements(By.XPATH,\"//div[@data-component='text-block']\")"
      ]
    },
    {
      "cell_type": "code",
      "execution_count": null,
      "metadata": {
        "id": "RY2JxRshDdQF",
        "outputId": "ae590f41-cf35-4f5a-8685-976e7a434db5"
      },
      "outputs": [
        {
          "name": "stdout",
          "output_type": "stream",
          "text": [
            "The US House of Representatives has expelled congressman George Santos, following a damning ethics report and dozens of criminal charges.\n",
            "\"To hell with this place,\" Mr Santos told reporters as he left the Capitol.\n",
            "The New York Republican is only the sixth lawmaker in history to be removed from the lower chamber of Congress, and the first since 2002.\n",
            "His tenure was marked by multiple lies about his past and allegations of fraud - all revealed after his election.\n",
            "Friday's was the third attempt to oust Mr Santos after two previous votes failed.\n",
            "The 35-year-old from Queens made a quick exit from the Capitol before the vote ended as its outcome became clear, rushing past a swarm of reporters and into a waiting SUV.\n",
            "\"As unofficially already no longer a member of Congress, I no longer have to answer a single question from you guys,\" he said.\n",
            "Lawmakers backed the expulsion resolution 311 to 114, with 206 Democrats and 105 Republicans voting in favour.\n",
            "Scattered applause was heard across the House chamber after the measure was adopted.\n",
            "Over 11 months in office, Mr Santos faced an endless stream of controversy and countless calls to resign from members of both parties.\n",
            "His troubles began shortly after winning election to the House in November 2022, when the New York Times reported he had lied about a Wall Street career, his college degrees and having Jewish ancestry.\n",
            "Since then, the allegations have only piled up. He has been accused of a range of fabrications, from scamming Amish dog breeders in Pennsylvania to claiming his mother died in the 9/11 terror attacks.\n",
            "In May, he was charged with 23 felonies, including wire fraud, money laundering and theft of public funds. He denies the allegations and is awaiting trial.\n",
            "But the final blow came last month, when the House ethics committee found he had exploited \"every aspect of his House candidacy for his own personal financial profit\".\n",
            "Among its many allegations, the panel accused him of spending campaign money on Botox treatments, credit card debt, OnlyFans - a platform where users pay for content, including pornography - and trips to the Hamptons seaside enclave in New York.\n",
            "Expulsion votes are rare in Congress and require the backing of two-thirds of the House.\n",
            "Two previous efforts to remove Mr Santos failed, after some lawmakers argued it would set a bad precedent to remove someone who had not been convicted of crimes or tried in a court of law.\n",
            "Jim Jordan, a Republican who voted against the expulsion, told the BBC he worried \"who's next\".\n",
            "\"The voters elected him,\" he said. \"You've got to be careful in taking a vote to kick out of Congress someone the voters sent to Congress.\"\n",
            "A group of four New York Republicans, all elected alongside Mr Santos, had been trying to get him ousted.\n",
            "\"The precedent that is set is that we hold members of Congress to a higher standard,\" said one, Anthony D'Esposito.\n",
            "\"It shouldn't have come to this,\" he added. \"He should have held himself accountable. He should have resigned.\"\n",
            "In the days after the release of the ethics committee's report, Mr Santos had refused to quit, slamming colleagues online and daring them to remove him.\n",
            "\"This place is run on hypocrisy,\" he told reporters earlier this week. \"If they want me to leave Congress, they're going to have to take that tough vote.\"\n",
            "Constituents in his district welcomed the news, with one saying only \"good riddance\" when asked for their reaction.\n",
            "Jody Kassfinkel, who campaigned to have Mr Santos removed, told the BBC his expulsion was \"a win for democracy\".\n",
            "\"We knew this was the only way to go because this man has no shame and he was not going to resign on his own,\" she said.\n",
            "As soon as the vote was gavelled out, Mr Santos officially became a former member of Congress.\n",
            "His official website was taken down, his staff phones now go to a generic voicemail and the nameplate outside his office - where some people stopped by to take selfies on Friday - was removed.\n",
            "A sign attached to the doorway says \"Yes! We're open\" - but there were no signs of life inside except for a staffer who briefly exited to pick up flowers left at the entrance.\n",
            "The New Yorker no longer has the ability to vote on legislation or to rely on his government health benefits, and is not eligible for a congressional legislative pension.\n",
            "He can still dine, however, in the exclusive House restaurant, exercise in the Capitol gym or borrow books from the Library of Congress - all privileges afforded to former members of Congress.\n",
            "New York Governor Kathy Hochul has 10 days to call for an election, which will likely take place next February.\n",
            "With the Republican House majority shaved to just eight seats, Democrats have a good shot of filling the vacancy.\n",
            "It caps a stunning downfall of a man who scored an upset victory in a Democratic-leaning district and became the first openly gay Republican elected to Congress.\n",
            "With a federal fraud trial looming next year, some have speculated he will sign a plea deal with prosecutors to avoid prison time, as he did with a case in his native Brazil earlier this year.\n",
            "If not, he faces a maximum penalty of at least 20 years behind bars.\n",
            "Additional reporting by Pratiksha Ghildial and Nadine Yousif.\n"
          ]
        }
      ],
      "source": [
        "for i in paragraghs:\n",
        "    print(i.text)"
      ]
    },
    {
      "cell_type": "code",
      "execution_count": null,
      "metadata": {
        "id": "6gwLEOYTDdQF",
        "outputId": "f414a987-5581-411e-84f0-71cd50eedbd7"
      },
      "outputs": [
        {
          "data": {
            "text/plain": [
              "'George Santos expelled from Congress in historic vote'"
            ]
          },
          "execution_count": 18,
          "metadata": {},
          "output_type": "execute_result"
        }
      ],
      "source": [
        "driver.find_element(By.CSS_SELECTOR,\"h1#main-heading\").text"
      ]
    },
    {
      "cell_type": "markdown",
      "metadata": {
        "id": "0-s9GyenDdQF"
      },
      "source": [
        "# Linkedin Login. Give email and password"
      ]
    },
    {
      "cell_type": "code",
      "execution_count": null,
      "metadata": {
        "id": "LIOCi94qDdQF"
      },
      "outputs": [],
      "source": [
        "driver = webdriver.Chrome()  # Optional argument, if not specified will search path.\n",
        "\n",
        "driver.maximize_window()\n",
        "\n",
        "driver.get('https://www.linkedin.com/');\n",
        "\n",
        "time.sleep(5) # Let the user actually see something!\n",
        "\n",
        "email = 'karthick@gmail.com'\n",
        "password = 'XYQWdgjh'\n",
        "\n",
        "driver.find_element(By.CSS_SELECTOR,\"input[name='session_key']\").send_keys(email)\n",
        "driver.find_element(By.CSS_SELECTOR,\"input[type='password']\").send_keys(password)\n",
        "driver.find_element(By.CSS_SELECTOR,\"button[type='submit']\").click()\n",
        "\n"
      ]
    },
    {
      "cell_type": "markdown",
      "metadata": {
        "id": "cQ8y0U8UDdQG"
      },
      "source": [
        "# Flipkart Scraping"
      ]
    },
    {
      "cell_type": "code",
      "execution_count": null,
      "metadata": {
        "id": "DImAtGHJDdQG"
      },
      "outputs": [],
      "source": [
        "driver = webdriver.Chrome()  # Optional argument, if not specified will search path.\n",
        "\n",
        "driver.maximize_window()\n",
        "\n",
        "driver.get('https://www.flipkart.com/womens-footwear/sports-shoes/pr?sid=osp,iko,d20&fm=neo%2Fmerchandising&iid=M_487227f1-a5f3-48fa-a1e9-1239bc93b34c_1_372UD5BXDFYS_MC.TCYGDE7YX2GZ&otracker=hp_rich_navigation_7_1.navigationCard.RICH_NAVIGATION_Fashion~Women%2BFootwear~Women%2BSports%2BShoes_TCYGDE7YX2GZ&otracker1=hp_rich_navigation_PINNED_neo%2Fmerchandising_NA_NAV_EXPANDABLE_navigationCard_cc_7_L2_view-all&cid=TCYGDE7YX2GZ')\n"
      ]
    },
    {
      "cell_type": "markdown",
      "metadata": {
        "id": "NQGIpv5MDdQG"
      },
      "source": [
        "# 1st Way - Sometime will get the error if element not found"
      ]
    },
    {
      "cell_type": "code",
      "execution_count": null,
      "metadata": {
        "id": "L3bjMipRDdQG"
      },
      "outputs": [],
      "source": [
        "details = {'Brand':[],'Description':[],'Discountprice':[],\n",
        "           'Actualprice':[],'Discountpercent':[],'Links':[],'ImageLinks':[]}"
      ]
    },
    {
      "cell_type": "code",
      "execution_count": null,
      "metadata": {
        "id": "ngIDh1BGDdQG"
      },
      "outputs": [],
      "source": [
        "import selenium\n",
        "from selenium import webdriver\n",
        "from selenium.webdriver.common.by import By\n",
        "from selenium.webdriver.common.keys import Keys\n",
        "\n",
        "driver = webdriver.Chrome()  # Optional argument, if not specified will search path.\n",
        "\n",
        "driver.maximize_window()\n",
        "\n",
        "driver.get('https://www.flipkart.com/womens-footwear/sports-shoes/pr?sid=osp,iko,d20&fm=neo%2Fmerchandising&iid=M_487227f1-a5f3-48fa-a1e9-1239bc93b34c_1_372UD5BXDFYS_MC.TCYGDE7YX2GZ&otracker=hp_rich_navigation_7_1.navigationCard.RICH_NAVIGATION_Fashion~Women%2BFootwear~Women%2BSports%2BShoes_TCYGDE7YX2GZ&otracker1=hp_rich_navigation_PINNED_neo%2Fmerchandising_NA_NAV_EXPANDABLE_navigationCard_cc_7_L2_view-all&cid=TCYGDE7YX2GZ')\n",
        "\n",
        "for i in range(5):\n",
        "\n",
        "    ImagesElements = driver.find_elements(By.CSS_SELECTOR,\"._2r_T1I\")\n",
        "    BrandsElements = driver.find_elements(By.XPATH,\"//div[@class='_2WkVRV']\")\n",
        "    DescriptionElements = driver.find_elements(By.CSS_SELECTOR,\"a.IRpwTa\")\n",
        "    DiscountpriceElements=driver.find_elements(By.CSS_SELECTOR,\"div[class='_30jeq3']\")\n",
        "    ActualpriceElements=driver.find_elements(By.CSS_SELECTOR,\"div[class='_3I9_wc']\")\n",
        "    DiscountpercentElements= driver.find_elements(By.CSS_SELECTOR,\"div[class='_3Ay6Sb']\")\n",
        "    LinksElements = driver.find_elements(By.CSS_SELECTOR,\"a.IRpwTa\")\n",
        "\n",
        "    imageslinks = [i.get_attribute('src') for i in ImagesElements]\n",
        "    details['ImageLinks'].extend(imageslinks)\n",
        "\n",
        "    brands = [i.text for i in BrandsElements]\n",
        "    details['Brand'].extend(brands)\n",
        "\n",
        "    description = [i.get_attribute('title') for i in DescriptionElements]\n",
        "    details['Description'].extend(description)\n",
        "\n",
        "    discountprice = [i.text for i in DiscountpriceElements]\n",
        "    details['Discountprice'].extend(discountprice)\n",
        "\n",
        "    actualprice = [i.text for i in ActualpriceElements]\n",
        "    details['Actualprice'].extend(actualprice)\n",
        "\n",
        "    discountpercent = [i.text for i in DiscountpercentElements]\n",
        "    details['Discountpercent'].extend(discountpercent)\n",
        "\n",
        "    links = [i.get_attribute('href') for i in LinksElements]\n",
        "    details['Links'].extend(links)\n",
        "\n",
        "    driver.find_element(By.XPATH,\"//span[contains(text(),'Next')]\").click()\n",
        "\n",
        "    time.sleep(3)\n"
      ]
    },
    {
      "cell_type": "markdown",
      "metadata": {
        "id": "Ongxa8WNDdQG"
      },
      "source": [
        "# We can see len of all elements is not equal so we will not be able to create dataframe"
      ]
    },
    {
      "cell_type": "code",
      "execution_count": null,
      "metadata": {
        "id": "mdawC3WBDdQG",
        "outputId": "5cf22dd5-7bee-4dd9-eaed-a26501f42d7f"
      },
      "outputs": [
        {
          "name": "stdout",
          "output_type": "stream",
          "text": [
            "Brand 200\n",
            "Description 200\n",
            "Discountprice 200\n",
            "Actualprice 199\n",
            "Discountpercent 199\n",
            "Links 200\n",
            "ImageLinks 200\n"
          ]
        }
      ],
      "source": [
        "for i in details.keys():\n",
        "\n",
        "    print(i,len(details[i]))"
      ]
    },
    {
      "cell_type": "markdown",
      "metadata": {
        "id": "lx7eWc13DdQH"
      },
      "source": [
        "# 2nd Way - Using try and except method to eliminate error. Identify the element boxes one by one and then extract the details"
      ]
    },
    {
      "cell_type": "code",
      "execution_count": null,
      "metadata": {
        "id": "N6wgmAcYDdQH"
      },
      "outputs": [],
      "source": [
        "details = {'Brand':[],'Description':[],'Discountprice':[],\n",
        "           'Actualprice':[],'Discountpercent':[],'Links':[],'ImageLinks':[]}"
      ]
    },
    {
      "cell_type": "code",
      "execution_count": null,
      "metadata": {
        "id": "Z_70fMPfDdQH"
      },
      "outputs": [],
      "source": [
        "driver = webdriver.Chrome()  # Optional argument, if not specified will search path.\n",
        "\n",
        "driver.maximize_window()\n",
        "\n",
        "driver.get('https://www.flipkart.com/womens-footwear/sports-shoes/pr?sid=osp,iko,d20&fm=neo%2Fmerchandising&iid=M_487227f1-a5f3-48fa-a1e9-1239bc93b34c_1_372UD5BXDFYS_MC.TCYGDE7YX2GZ&otracker=hp_rich_navigation_7_1.navigationCard.RICH_NAVIGATION_Fashion~Women%2BFootwear~Women%2BSports%2BShoes_TCYGDE7YX2GZ&otracker1=hp_rich_navigation_PINNED_neo%2Fmerchandising_NA_NAV_EXPANDABLE_navigationCard_cc_7_L2_view-all&cid=TCYGDE7YX2GZ')\n",
        "\n",
        "time.sleep(3)\n",
        "\n",
        "for i in range(5):\n",
        "\n",
        "    ElementBoxes = driver.find_elements(By.CSS_SELECTOR,\"div._1xHGtK\")\n",
        "\n",
        "    for i in ElementBoxes:\n",
        "\n",
        "        try:image = i.find_element(By.CSS_SELECTOR,\"img._2r_T1I\").get_attribute('src')\n",
        "        except:image = None\n",
        "\n",
        "        try:brand = i.find_element(By.CSS_SELECTOR,'div._2WkVRV').text\n",
        "        except:brand = None\n",
        "\n",
        "        try:description = i.find_element(By.CSS_SELECTOR,\"a.IRpwTa\").get_attribute('title')\n",
        "        except: description = None\n",
        "\n",
        "        try:discountprice = i.find_element(By.CSS_SELECTOR,'div._30jeq3').text\n",
        "        except:discountprice = None\n",
        "\n",
        "        try:actualprice = i.find_element(By.CSS_SELECTOR,'div._3I9_wc').text\n",
        "        except:actualprice = None\n",
        "\n",
        "        try:discountpercent = i.find_element(By.CSS_SELECTOR,'div._3Ay6Sb').text\n",
        "        except:discountpercent = None\n",
        "\n",
        "        try:link = i.find_element(By.CSS_SELECTOR,'a.IRpwTa').get_attribute('href')\n",
        "        except:link = None\n",
        "\n",
        "        details['Links'].append(link)\n",
        "        details['ImageLinks'].append(image)\n",
        "        details['Brand'].append(brand)\n",
        "        details['Description'].append(description)\n",
        "        details['Discountprice'].append(discountprice)\n",
        "        details['Actualprice'].append(actualprice)\n",
        "        details['Discountpercent'].append(discountpercent)\n",
        "\n",
        "    driver.find_element(By.XPATH,\"//span[contains(text(),'Next')]\").click()\n",
        "\n",
        "    time.sleep(3)\n"
      ]
    },
    {
      "cell_type": "code",
      "execution_count": null,
      "metadata": {
        "id": "r7KM6NQ5DdQH",
        "outputId": "31962c46-cb0c-4e2b-f302-edf57e6c028d"
      },
      "outputs": [
        {
          "name": "stdout",
          "output_type": "stream",
          "text": [
            "Brand 200\n",
            "Description 200\n",
            "Discountprice 200\n",
            "Actualprice 200\n",
            "Discountpercent 200\n",
            "Links 200\n",
            "ImageLinks 200\n"
          ]
        }
      ],
      "source": [
        "for i in details.keys():\n",
        "\n",
        "    print(i,len(details[i]))"
      ]
    },
    {
      "cell_type": "code",
      "execution_count": null,
      "metadata": {
        "id": "Gl9Htp3MDdQH",
        "outputId": "f022e534-1860-4384-913c-57f6771caa1e"
      },
      "outputs": [
        {
          "data": {
            "text/html": [
              "<div>\n",
              "<style scoped>\n",
              "    .dataframe tbody tr th:only-of-type {\n",
              "        vertical-align: middle;\n",
              "    }\n",
              "\n",
              "    .dataframe tbody tr th {\n",
              "        vertical-align: top;\n",
              "    }\n",
              "\n",
              "    .dataframe thead th {\n",
              "        text-align: right;\n",
              "    }\n",
              "</style>\n",
              "<table border=\"1\" class=\"dataframe\">\n",
              "  <thead>\n",
              "    <tr style=\"text-align: right;\">\n",
              "      <th></th>\n",
              "      <th>Brand</th>\n",
              "      <th>Description</th>\n",
              "      <th>Discountprice</th>\n",
              "      <th>Actualprice</th>\n",
              "      <th>Discountpercent</th>\n",
              "      <th>Links</th>\n",
              "      <th>ImageLinks</th>\n",
              "    </tr>\n",
              "  </thead>\n",
              "  <tbody>\n",
              "    <tr>\n",
              "      <th>0</th>\n",
              "      <td>CAMPUS</td>\n",
              "      <td>BLAIRE Running Shoes For Women</td>\n",
              "      <td>₹1,047</td>\n",
              "      <td>₹1,119</td>\n",
              "      <td>6% off</td>\n",
              "      <td>https://www.flipkart.com/campus-blaire-running...</td>\n",
              "      <td>https://rukminim2.flixcart.com/image/612/612/x...</td>\n",
              "    </tr>\n",
              "    <tr>\n",
              "      <th>1</th>\n",
              "      <td>CAMPUS</td>\n",
              "      <td>Running Shoes For Women</td>\n",
              "      <td>₹1,159</td>\n",
              "      <td>₹1,299</td>\n",
              "      <td>10% off</td>\n",
              "      <td>https://www.flipkart.com/campus-running-shoes-...</td>\n",
              "      <td>https://rukminim2.flixcart.com/image/612/612/x...</td>\n",
              "    </tr>\n",
              "    <tr>\n",
              "      <th>2</th>\n",
              "      <td>CAMPUS</td>\n",
              "      <td>CRISTY Running Shoes For Women</td>\n",
              "      <td>₹689</td>\n",
              "      <td>₹799</td>\n",
              "      <td>13% off</td>\n",
              "      <td>https://www.flipkart.com/campus-cristy-running...</td>\n",
              "      <td>https://rukminim2.flixcart.com/image/612/612/x...</td>\n",
              "    </tr>\n",
              "    <tr>\n",
              "      <th>3</th>\n",
              "      <td>Sparx</td>\n",
              "      <td>SL-170 Running Shoes For Women</td>\n",
              "      <td>₹769</td>\n",
              "      <td>₹1,099</td>\n",
              "      <td>30% off</td>\n",
              "      <td>https://www.flipkart.com/sparx-sl-170-running-...</td>\n",
              "      <td>https://rukminim2.flixcart.com/image/612/612/x...</td>\n",
              "    </tr>\n",
              "    <tr>\n",
              "      <th>4</th>\n",
              "      <td>MAX</td>\n",
              "      <td>Running Shoes For Women</td>\n",
              "      <td>₹1,499</td>\n",
              "      <td>None</td>\n",
              "      <td>None</td>\n",
              "      <td>https://www.flipkart.com/max-running-shoes-wom...</td>\n",
              "      <td>https://rukminim2.flixcart.com/image/612/612/x...</td>\n",
              "    </tr>\n",
              "  </tbody>\n",
              "</table>\n",
              "</div>"
            ],
            "text/plain": [
              "    Brand                     Description Discountprice Actualprice  \\\n",
              "0  CAMPUS  BLAIRE Running Shoes For Women        ₹1,047      ₹1,119   \n",
              "1  CAMPUS         Running Shoes For Women        ₹1,159      ₹1,299   \n",
              "2  CAMPUS  CRISTY Running Shoes For Women          ₹689        ₹799   \n",
              "3   Sparx  SL-170 Running Shoes For Women          ₹769      ₹1,099   \n",
              "4     MAX         Running Shoes For Women        ₹1,499        None   \n",
              "\n",
              "  Discountpercent                                              Links  \\\n",
              "0          6% off  https://www.flipkart.com/campus-blaire-running...   \n",
              "1         10% off  https://www.flipkart.com/campus-running-shoes-...   \n",
              "2         13% off  https://www.flipkart.com/campus-cristy-running...   \n",
              "3         30% off  https://www.flipkart.com/sparx-sl-170-running-...   \n",
              "4            None  https://www.flipkart.com/max-running-shoes-wom...   \n",
              "\n",
              "                                          ImageLinks  \n",
              "0  https://rukminim2.flixcart.com/image/612/612/x...  \n",
              "1  https://rukminim2.flixcart.com/image/612/612/x...  \n",
              "2  https://rukminim2.flixcart.com/image/612/612/x...  \n",
              "3  https://rukminim2.flixcart.com/image/612/612/x...  \n",
              "4  https://rukminim2.flixcart.com/image/612/612/x...  "
            ]
          },
          "execution_count": 26,
          "metadata": {},
          "output_type": "execute_result"
        }
      ],
      "source": [
        "import pandas as pd\n",
        "\n",
        "df = pd.DataFrame(details)\n",
        "\n",
        "df.head()"
      ]
    },
    {
      "cell_type": "code",
      "execution_count": null,
      "metadata": {
        "id": "Rxxlkl-jDdQH"
      },
      "outputs": [],
      "source": [
        "df.to_csv('Flipkart_3rdDec23.csv',index = False,encoding = 'utf-8-sig')"
      ]
    },
    {
      "cell_type": "code",
      "execution_count": null,
      "metadata": {
        "id": "ntBQphDPDdQH"
      },
      "outputs": [],
      "source": [
        "for i in df.Links[:5].to_list():\n",
        "\n",
        "    driver = webdriver.Chrome()\n",
        "    driver.get(i)\n",
        "    time.sleep(3)\n",
        "\n",
        "    driver.close()"
      ]
    },
    {
      "cell_type": "markdown",
      "metadata": {
        "id": "igjLb2boDdQH"
      },
      "source": [
        "# For Scrolling down"
      ]
    },
    {
      "cell_type": "code",
      "execution_count": null,
      "metadata": {
        "id": "ZBGBT3_EDdQH"
      },
      "outputs": [],
      "source": [
        "driver = webdriver.Chrome()\n",
        "\n",
        "driver.maximize_window()\n",
        "\n",
        "driver.get('https://www.olx.in/')\n",
        "\n",
        "body = driver.find_element(By.TAG_NAME,'body')\n",
        "\n",
        "for i in range(5):\n",
        "\n",
        "    for j in range(2):\n",
        "        body.send_keys(Keys.PAGE_DOWN)\n",
        "\n",
        "    time.sleep(1)\n",
        "\n",
        "    body.find_element(By.XPATH,\"//span[contains(text(),'load more')]\").click()\n",
        ""
      ]
    },
    {
      "cell_type": "code",
      "execution_count": null,
      "metadata": {
        "id": "XT2lliqCDdQH",
        "outputId": "4c47aa67-0660-4e9a-8602-216fd3d605fd"
      },
      "outputs": [
        {
          "name": "stdout",
          "output_type": "stream",
          "text": [
            "LIBA Running Shoes For Women\n",
            "Trackracer 2.0 Wn's Running Shoes For Women\n",
            "Premium Sports Shoes for Women Walking Shoes For Women\n",
            "Premium Sports Shoes For Women Walking Shoes For Women\n",
            "CRISTY Running Shoes For Women\n",
            "SL-170 Running Shoes For Women\n",
            "RESPONSE Running Shoes For Women\n",
            "Classic Sneakers Walking Shoes For Women\n",
            "Stylish Casual Sports Shoe Running Shoes For Women\n",
            "Premium Casual Shoes for Women Walking Shoes For Women\n",
            "Aura Navy Sneakers for Men, 4 UK Walking Shoes For Women\n",
            "Nora 4 Sports Running Shoe Wh/Sky 7 Outdoors For Women\n",
            "ANNIE Walking Shoes For Women\n",
            "Premium Sports Shoes for Women Walking Shoes For Women\n",
            "Running Shoes For Women\n",
            "SL-170 Running Shoes For Women\n",
            "Star Vital Refresh C Running Shoes For Women\n",
            "LIBA Running Shoes For Women\n",
            "TPENT Sports Running, Walking & Gym Comfortable Casual Slip-on Shoes For Women. Walking Shoes For Women\n",
            "Premium Sports Shoes for Women Walking Shoes For Women\n",
            "Supernal V2 Wns Sneakers For Women\n",
            "Ivana Wn's Walking Shoes For Women\n",
            "Premium Sports Shoes for Women Walking Shoes For Women\n",
            "LISA (N) Running Shoes For Women\n",
            "Firefly-10 Pink Sports,Training,Gym,Walking,Stylish Walking Shoes For Women\n",
            "Fashion-02 sports shoes for women without laces | Running shoes for girls stylish latest design new fashion | casual sneakers for ladies | Slip on grey shoes for jogging, walking, gym & party Walking Shoes For Women\n",
            "Loop X Wns Walking Shoes For Women\n",
            "HARRIS-ON Casuals,Sneakers,Loafers Training & Gym Shoes For Women\n",
            "Cell Vive Mesh Wn's Running Shoes For Women\n",
            "Cute sports shoes for women | Running shoes for girls stylish latest design new fashion | casual sneakers for ladies | Lace up Lightweight pink shoes for jogging, walking, gym & party Running Shoes For Women\n",
            "Sparx SL 168 Running Shoes For Women\n",
            "Classic Sneakers Walking Shoes For Women\n",
            "ALEXA Running Shoes For Women\n",
            "ANNIE Walking Shoes For Women\n",
            "RESPONSE Running Shoes For Women\n",
            "LISA (N) Running Shoes For Women\n",
            "Disperse XT 3 Retro Glam Womens Training & Gym Shoes For Women\n",
            "Softride Remi Womens Running Shoes For Women\n",
            "HELLEN Running Shoes For Women\n",
            "Stylish Casual Sports Shoe Running Shoes For Women\n"
          ]
        }
      ],
      "source": [
        "#to get description\n",
        "\n",
        "for i in description:\n",
        "    print(i.get_attribute('title'))"
      ]
    },
    {
      "cell_type": "code",
      "execution_count": null,
      "metadata": {
        "id": "Rs9QdA91DdQI"
      },
      "outputs": [],
      "source": [
        "#to get information of attribute\n",
        "for i in images:\n",
        "    print(i.get_attribute('src'))\n",
        ""
      ]
    },
    {
      "cell_type": "code",
      "execution_count": null,
      "metadata": {
        "id": "TXG0z1GiDdQI",
        "outputId": "7370ff70-96f2-41bd-a702-cf91071ba07b"
      },
      "outputs": [
        {
          "name": "stdout",
          "output_type": "stream",
          "text": [
            "CAMPUS\n",
            "CAMRO\n",
            "BIRDE\n",
            "CAMPUS\n",
            "BIRDE\n",
            "Sparx\n",
            "TPENT\n",
            "Plaeto\n",
            "CAMPUS\n",
            "BIRDE\n",
            "PUMA\n",
            "Abros\n",
            "BIRDE\n",
            "BIRDE\n",
            "ADIDAS\n",
            "CAMPUS\n",
            "PUMA\n",
            "Abros\n",
            "Sukot\n",
            "asian\n",
            "PUMA\n",
            "CAMRO\n",
            "Layasa\n",
            "Sparx\n",
            "asian\n",
            "CAMPUS\n",
            "CAMRO\n",
            "PUMA\n",
            "BIRDE\n",
            "CAMPUS\n",
            "Sparx\n",
            "PUMA\n",
            "ADIDAS\n",
            "PUMA\n",
            "TPENT\n",
            "CAMPUS\n",
            "PUMA\n",
            "PUMA\n",
            "asian\n",
            "CAMPUS\n"
          ]
        }
      ],
      "source": [
        "#to get content of the paired tag\n",
        "for i in brands:\n",
        "    print(i.text)"
      ]
    }
  ],
  "metadata": {
    "kernelspec": {
      "display_name": ".venv",
      "language": "python",
      "name": "python3"
    },
    "language_info": {
      "codemirror_mode": {
        "name": "ipython",
        "version": 3
      },
      "file_extension": ".py",
      "mimetype": "text/x-python",
      "name": "python",
      "nbconvert_exporter": "python",
      "pygments_lexer": "ipython3",
      "version": "3.10.0"
    },
    "colab": {
      "provenance": []
    }
  },
  "nbformat": 4,
  "nbformat_minor": 0
}